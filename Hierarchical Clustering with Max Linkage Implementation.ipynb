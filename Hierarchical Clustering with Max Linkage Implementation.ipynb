{
 "cells": [
  {
   "cell_type": "markdown",
   "metadata": {},
   "source": [
    "# Hierarchical Clustering Analysis with Max Linkage\n",
    "As described in this paper: http://www.econ.upf.edu/~michael/stanford/maeb7.pdf"
   ]
  },
  {
   "cell_type": "markdown",
   "metadata": {},
   "source": [
    "### Basic Description\n",
    "\n",
    "Hierarchical cluster analysis is an unsupervised clustering algorithm that tries to build a hierarchy of clusters. The datasets I will be working with all have a diagonal of zeroes. The A sample is represented by the diagonal. The values are also reflected across the diagonal. Each value is the dissimilarity value of two samples, A and the sample in question. For example, the first column and first row sample would be the dissimilarity value between A and A (0). The first column and second row sample would be the dissimilarity value between A and B (0.5). The grid including A, B, C, etc. is shown in the paper.\n",
    "\n",
    "The algorithm starts by finding the minimum value in the dataset. There should be at least 2 since the data is reflected across the diagonal. Then the value on the left side of the diagonal searches for the largest value in its row. The value on the left side of the diagonal searches for the largest value in its column. If the dataset is made correctly and the algorithm worked correctly, these two largest values should be the same. The minumum value is replaced with the found largest value. This largest value now represents the dissimilarity value between A and the row and column that were searched through. Then the row and column that were searched through are deleted, and the process begins again. This process is repeated until there is only a two by two square left which houses the maximum dissimilarity value. \n",
    "\n",
    "The clustering portion of this algorithm becomes more clear when the deleted rows and columns are summarized in a dendrogram. For example, after the first iteration of this algorithm, the dendrogram would look like exhibit 7.3, page 3 of the given paper. Exhibit 7.6 page 4 shows when a cluster joins another via a node. Exhibit 7.8 page 5 shows the complete dendrogram for the dataset. "
   ]
  },
  {
   "cell_type": "code",
   "execution_count": 1,
   "metadata": {},
   "outputs": [],
   "source": [
    "import numpy as np\n",
    "\n",
    "def maxLinkage(data):\n",
    "    data=np.array(data)\n",
    "    iter = 0\n",
    "    \n",
    "    #Continue until there are only two columns\n",
    "    while(len(data[0])>2):\n",
    "        \n",
    "        #Remove zeroes from list to find min\n",
    "        listNoZeroes = np.ma.masked_equal(data, 0.0, copy=False)\n",
    "        \n",
    "        #Find minimum value\n",
    "        least = listNoZeroes.min()\n",
    "        index = np.where(data==least)\n",
    "        \n",
    "        #Change rows to max value between the two rows\n",
    "        #Notice that the data will always be a square\n",
    "        for z in range(len(data[0])):\n",
    "            if(data[index[0][0]][z]!=0):\n",
    "                data[index[0][0]][z] = max(data[index[0][0]][z], data[index[1][0]][z])\n",
    "                \n",
    "        #Change columns to max value between two columns\n",
    "        for z in range(len(data[0])):\n",
    "            if(data[z][index[0][0]]!=0):\n",
    "                data[z][index[0][0]] = max(data[z][index[0][0]], data[z][index[1][0]])\n",
    "                \n",
    "        #Delete row and column where min value was\n",
    "        data = np.delete(data,index[1][0], 0)\n",
    "        data = np.delete(data,index[1][0], 1)\n",
    "        \n",
    "        print('Iteration: ', iter)\n",
    "        print(data)\n",
    "        print()\n",
    "        iter +=1\n",
    "        \n",
    "    return data"
   ]
  },
  {
   "cell_type": "code",
   "execution_count": 2,
   "metadata": {},
   "outputs": [],
   "source": [
    "#Same dataset as in given paper\n",
    "#Notice that the diagonals are zeroes and the values are reflected across diagonal.\n",
    "\n",
    "data1 = [\n",
    "[0, 0.5000, 0.4286, 1.0000, 0.2500, 0.6250, 0.3750],\n",
    "[0.5000, 0, 0.7143, 0.8333, 0.6667, 0.2000, 0.7778],\n",
    "[0.4286, 0.7143, 0, 1.0000, 0.4286, 0.6667, 0.3333],\n",
    "[1.0000, 0.8333, 1.0000, 0, 1.0000, 0.8000, 0.8571],\n",
    "[0.2500, 0.6667, 0.4286, 1.0000, 0, 0.7778, 0.3750],\n",
    "[0.6250, 0.2000, 0.6667, 0.8000, 0.7778, 0, 0.7500],\n",
    "[0.3750, 0.7778, 0.3333, 0.8571, 0.3750, 0.7500, 0]]"
   ]
  },
  {
   "cell_type": "code",
   "execution_count": 3,
   "metadata": {},
   "outputs": [
    {
     "name": "stdout",
     "output_type": "stream",
     "text": [
      "Original\n",
      "[[0.     0.5    0.4286 1.     0.25   0.625  0.375 ]\n",
      " [0.5    0.     0.7143 0.8333 0.6667 0.2    0.7778]\n",
      " [0.4286 0.7143 0.     1.     0.4286 0.6667 0.3333]\n",
      " [1.     0.8333 1.     0.     1.     0.8    0.8571]\n",
      " [0.25   0.6667 0.4286 1.     0.     0.7778 0.375 ]\n",
      " [0.625  0.2    0.6667 0.8    0.7778 0.     0.75  ]\n",
      " [0.375  0.7778 0.3333 0.8571 0.375  0.75   0.    ]]\n",
      "\n",
      "Iteration:  0\n",
      "[[0.     0.625  0.4286 1.     0.25   0.375 ]\n",
      " [0.625  0.     0.7143 0.8333 0.7778 0.7778]\n",
      " [0.4286 0.7143 0.     1.     0.4286 0.3333]\n",
      " [1.     0.8333 1.     0.     1.     0.8571]\n",
      " [0.25   0.7778 0.4286 1.     0.     0.375 ]\n",
      " [0.375  0.7778 0.3333 0.8571 0.375  0.    ]]\n",
      "\n",
      "Iteration:  1\n",
      "[[0.     0.7778 0.4286 1.     0.375 ]\n",
      " [0.7778 0.     0.7143 0.8333 0.7778]\n",
      " [0.4286 0.7143 0.     1.     0.3333]\n",
      " [1.     0.8333 1.     0.     0.8571]\n",
      " [0.375  0.7778 0.3333 0.8571 0.    ]]\n",
      "\n",
      "Iteration:  2\n",
      "[[0.     0.7778 0.4286 1.    ]\n",
      " [0.7778 0.     0.7778 0.8333]\n",
      " [0.4286 0.7778 0.     1.    ]\n",
      " [1.     0.8333 1.     0.    ]]\n",
      "\n",
      "Iteration:  3\n",
      "[[0.     0.7778 1.    ]\n",
      " [0.7778 0.     0.8333]\n",
      " [1.     0.8333 0.    ]]\n",
      "\n",
      "Iteration:  4\n",
      "[[0. 1.]\n",
      " [1. 0.]]\n",
      "\n"
     ]
    },
    {
     "data": {
      "text/plain": [
       "array([[0., 1.],\n",
       "       [1., 0.]])"
      ]
     },
     "execution_count": 3,
     "metadata": {},
     "output_type": "execute_result"
    }
   ],
   "source": [
    "print('Original')\n",
    "print(np.array(data1))\n",
    "print()\n",
    "maxLinkage(data1)"
   ]
  },
  {
   "cell_type": "code",
   "execution_count": 4,
   "metadata": {},
   "outputs": [],
   "source": [
    "#Matrix with all zeroes in the diagonal\n",
    "data = [[0, 1, 1, 2, 2, 1],\n",
    "       [1, 0, 1, 1, 4, 1],\n",
    "       [1, 1, 0, 2, 2, 0],\n",
    "       [2, 1, 2, 0, 1, 2],\n",
    "       [2, 4, 2, 1, 0, 2],\n",
    "       [1, 1, 0, 2, 2, 0]]"
   ]
  },
  {
   "cell_type": "code",
   "execution_count": 5,
   "metadata": {},
   "outputs": [
    {
     "name": "stdout",
     "output_type": "stream",
     "text": [
      "Original\n",
      "[[0 1 1 2 2 1]\n",
      " [1 0 1 1 4 1]\n",
      " [1 1 0 2 2 0]\n",
      " [2 1 2 0 1 2]\n",
      " [2 4 2 1 0 2]\n",
      " [1 1 0 2 2 0]]\n",
      "\n",
      "Iteration:  0\n",
      "[[0 1 2 4 1]\n",
      " [1 0 2 2 0]\n",
      " [2 2 0 1 2]\n",
      " [4 2 1 0 2]\n",
      " [1 0 2 2 0]]\n",
      "\n",
      "Iteration:  1\n",
      "[[0 2 4 1]\n",
      " [2 0 1 2]\n",
      " [4 1 0 2]\n",
      " [1 2 2 0]]\n",
      "\n",
      "Iteration:  2\n",
      "[[0 2 4]\n",
      " [2 0 1]\n",
      " [4 1 0]]\n",
      "\n",
      "Iteration:  3\n",
      "[[0 4]\n",
      " [4 0]]\n",
      "\n"
     ]
    },
    {
     "data": {
      "text/plain": [
       "array([[0, 4],\n",
       "       [4, 0]])"
      ]
     },
     "execution_count": 5,
     "metadata": {},
     "output_type": "execute_result"
    }
   ],
   "source": [
    "print('Original')\n",
    "print(np.array(data))\n",
    "print()\n",
    "maxLinkage(data)"
   ]
  },
  {
   "cell_type": "code",
   "execution_count": null,
   "metadata": {},
   "outputs": [],
   "source": []
  }
 ],
 "metadata": {
  "kernelspec": {
   "display_name": "Python 3",
   "language": "python",
   "name": "python3"
  },
  "language_info": {
   "codemirror_mode": {
    "name": "ipython",
    "version": 3
   },
   "file_extension": ".py",
   "mimetype": "text/x-python",
   "name": "python",
   "nbconvert_exporter": "python",
   "pygments_lexer": "ipython3",
   "version": "3.8.5"
  }
 },
 "nbformat": 4,
 "nbformat_minor": 4
}
